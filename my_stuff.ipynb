{
 "cells": [
  {
   "cell_type": "code",
   "execution_count": 1,
   "id": "28732deb-3cba-4bea-bf1d-a74f7f2493ba",
   "metadata": {},
   "outputs": [],
   "source": [
    "from glob import glob\n",
    "import numpy as np\n",
    "import json\n",
    "import os"
   ]
  },
  {
   "cell_type": "markdown",
   "id": "68ef431e-c9f9-40c1-9c9e-db403027c0aa",
   "metadata": {},
   "source": [
    "# Label formatting"
   ]
  },
  {
   "cell_type": "code",
   "execution_count": 18,
   "id": "fa96d67e-1216-4935-8c56-c5f184ce47b9",
   "metadata": {},
   "outputs": [
    {
     "name": "stdout",
     "output_type": "stream",
     "text": [
      "# of images: 30561, # of labels: 29828\n"
     ]
    }
   ],
   "source": [
    "raw_img_paths = glob(\"/home/ubuntu/ForkGAN/datasets/erae/**/**/**/images/**/*.*\")\n",
    "raw_label_paths = glob(\"/home/ubuntu/ForkGAN/datasets/erae/**/**/**/annotations/**/*.*\")\n",
    "# raw_img_paths = glob(\"/home/ubuntu/ForkGAN/datasets/erae_val/**/**/**/images/**/*.*\")\n",
    "# raw_label_paths = glob(\"/home/ubuntu/ForkGAN/datasets/erae_val/**/**/**/annotations/**/*.*\")\n",
    "print(f\"# of images: {len(raw_img_paths)}, # of labels: {len(raw_label_paths)}\")\n",
    "raw_img_paths.sort()\n",
    "raw_label_paths.sort()\n",
    "# print(raw_img_paths[:10])\n",
    "# print(raw_label_paths[:10])\n",
    "pass"
   ]
  },
  {
   "cell_type": "code",
   "execution_count": 19,
   "id": "4045e130-acd4-47a9-88f1-93f81811837f",
   "metadata": {},
   "outputs": [
    {
     "name": "stdout",
     "output_type": "stream",
     "text": [
      "# images without label: 733\n"
     ]
    }
   ],
   "source": [
    "labelled_imgs_paths = []\n",
    "label_paths = []\n",
    "for p in raw_label_paths:\n",
    "    tmp = p.replace(\"json\",\"jpeg\")\n",
    "    tmp = tmp.replace(\"annotations\",\"images\")\n",
    "    labelled_imgs_paths.append(tmp)\n",
    "    label = p.replace(\"json\",\"txt\")\n",
    "    label = label.replace(\"annotations\",\"labels\")\n",
    "#     label = label.replace(\"erae\",\"erae_fake\")\n",
    "    label_paths.append(label)\n",
    "no_labelled_imgs_paths = np.setdiff1d(raw_img_paths,labelled_imgs_paths)\n",
    "print(f\"# images without label: {len(no_labelled_imgs_paths)}\")\n",
    "# print(labelled_imgs_paths)"
   ]
  },
  {
   "cell_type": "code",
   "execution_count": 10,
   "id": "4ff019ec-cd1d-40f7-aef7-156eaa2056a6",
   "metadata": {},
   "outputs": [],
   "source": [
    "# classes = [\"Pedestrian\", \"Car\", \"Bus\", \"Truck\", \"Cyclist\", \"Dontcare\", \"Undefined vehicle\"]\n",
    "mapping = {\n",
    "    \"Pedestrian\": 0,\n",
    "    \"Car\": 1,\n",
    "    \"Bus\": 2,\n",
    "    \"Truck\": 3,\n",
    "    \"Cyclist\": 4,\n",
    "    \"Dontcare\": 5,\n",
    "    \"Undefined vehicle\": 6\n",
    "}"
   ]
  },
  {
   "cell_type": "code",
   "execution_count": 20,
   "id": "e52df8f1-058f-4678-91c1-d3a421da1961",
   "metadata": {},
   "outputs": [
    {
     "name": "stdout",
     "output_type": "stream",
     "text": [
      "0 2787\n"
     ]
    }
   ],
   "source": [
    "no_class_count = 0\n",
    "corrupt_list = []\n",
    "non_corrupt_label_paths = []\n",
    "for i in range(len(raw_label_paths)):\n",
    "    path = raw_label_paths[i]\n",
    "    out_path = label_paths[i]\n",
    "    tmp = json.load(open(path,))\n",
    "    img_size = tmp['Image']['size'].split(\"x\")\n",
    "    label = []\n",
    "    for o in tmp['Object']:\n",
    "        if o['class'] not in mapping:\n",
    "            print(f\"o['class'] = {o['class']} not in mapping\")\n",
    "            no_class_count += 1\n",
    "        tmp0 = (o['box2d']['x1']+o['box2d']['x2'])/(2*int(img_size[0]))\n",
    "        tmp1 = (o['box2d']['y1']+o['box2d']['y2'])/(2*int(img_size[1]))\n",
    "        tmp2 = (o['box2d']['x2']-o['box2d']['x1'])/int(img_size[0])\n",
    "        tmp3 = (o['box2d']['y2']-o['box2d']['y1'])/int(img_size[1])\n",
    "        if tmp0<0 or tmp1<0 or tmp2<0 or tmp3<0 or tmp0>1 or tmp1>1 or tmp2>1 or tmp3>1:\n",
    "            corrupt_list.append(path[35:])\n",
    "            label = []\n",
    "            break\n",
    "        s = f\"{str(mapping[o['class']])} {tmp0} \"\n",
    "        s += f\"{tmp1} \"\n",
    "        s += f\"{tmp2} {tmp3}\"\n",
    "        label.append(s)\n",
    "    if len(label) == 0:\n",
    "        continue\n",
    "\n",
    "#     dirname = os.path.dirname(out_path)\n",
    "#     os.makedirs(dirname, exist_ok = True)\n",
    "#     with open(out_path, 'w') as f:\n",
    "#         for item in label:\n",
    "#             f.write(\"%s\\n\" % item)\n",
    "    non_corrupt_label_paths.append(path)\n",
    "print(no_class_count, len(corrupt_list))"
   ]
  },
  {
   "cell_type": "code",
   "execution_count": 17,
   "id": "5876fdaa-bf6a-4e99-ba1e-e845b9e52a1f",
   "metadata": {},
   "outputs": [],
   "source": [
    "# from copy import deepcopy\n",
    "# non_corrupt_label_paths_fake = deepcopy(non_corrupt_label_paths)"
   ]
  },
  {
   "cell_type": "code",
   "execution_count": 21,
   "id": "0c7509d4-3921-4192-bc47-f43e37110b90",
   "metadata": {},
   "outputs": [],
   "source": [
    "with open(\"/home/ubuntu/ForkGAN/datasets/erae/paths.txt\", 'w') as f:\n",
    "# with open(\"/home/ubuntu/ForkGAN/datasets/erae_val/paths.txt\", 'w') as f:\n",
    "# with open(\"/home/ubuntu/ForkGAN/datasets/erae_fake/paths.txt\", 'w') as f:\n",
    "    for item in non_corrupt_label_paths:\n",
    "#     for item in non_corrupt_label_paths+non_corrupt_label_paths_fake:\n",
    "        tmp = item.replace(\"json\",\"jpeg\")\n",
    "        tmp = tmp.replace(\"annotations\",\"images\")\n",
    "        f.write(\"%s\\n\" % tmp)"
   ]
  },
  {
   "cell_type": "markdown",
   "id": "8715f896-7ad3-4ce0-8bc4-767a2ab1b070",
   "metadata": {},
   "source": [
    "# Night labels"
   ]
  },
  {
   "cell_type": "code",
   "execution_count": 50,
   "id": "ef48707b-c805-49a4-82ca-16259c14aa9d",
   "metadata": {},
   "outputs": [
    {
     "name": "stdout",
     "output_type": "stream",
     "text": [
      "1104 46 1310\n",
      "/home/ubuntu/ForkGAN/datasets/erae-delivery/urban/1/2dod-urban-batch1_11314/annotations/CAM_FRONT/000000.json\n"
     ]
    }
   ],
   "source": [
    "# tmp_list = []\n",
    "# tmp_list2 = []\n",
    "# max_v = -1\n",
    "# max_path = ''\n",
    "night_label_paths = []\n",
    "night_img_paths = []\n",
    "for i, p in enumerate(raw_label_paths):\n",
    "    tmp_i = int(p.split(\"/\")[-4].split(\"_\")[1])\n",
    "#     tmp_list.append(tmp_i)\n",
    "    if tmp_i > 11500:\n",
    "        night_label_paths.append(p)\n",
    "        night_img_paths.append(labelled_imgs_paths[i])\n",
    "#         tmp_list2.append(tmp_i)\n",
    "#     elif tmp_i > max_v:\n",
    "#         max_path = p\n",
    "#         max_v = tmp_i\n",
    "unique_list = list(set(tmp_list))\n",
    "unique_list2 = list(set(tmp_list2))\n",
    "print(len(unique_list), len(unique_list2), len(night_label_paths))\n",
    "# print(max_path)"
   ]
  },
  {
   "cell_type": "markdown",
   "id": "209e989e-f7b7-4479-be07-d3316d043f1f",
   "metadata": {},
   "source": [
    "# Gen paths file"
   ]
  },
  {
   "cell_type": "code",
   "execution_count": 4,
   "id": "8202760f-5e59-49da-9a2b-6732aa2d1ecf",
   "metadata": {
    "tags": []
   },
   "outputs": [],
   "source": [
    "# raw_img_paths += glob(\"/home/ubuntu/ForkGAN/datasets/erae_fake/**/**/**/images/**/*.*\")\n",
    "# with open(\"/home/ubuntu/ForkGAN/datasets/erae_fake/paths.txt\", 'w') as f:\n",
    "#     for item in raw_img_paths:\n",
    "#         f.write(\"%s\\n\" % item)\n",
    "\n",
    "# raw_img_paths = glob(\"/home/ubuntu/ForkGAN/datasets/erae_val/**/**/**/images/**/*.*\")\n",
    "# with open(\"/home/ubuntu/ForkGAN/datasets/erae_val/paths.txt\", 'w') as f:\n",
    "#     for item in raw_img_paths:\n",
    "#         f.write(\"%s\\n\" % item)"
   ]
  },
  {
   "cell_type": "code",
   "execution_count": null,
   "id": "06b37119-d6b8-4380-bff9-2a6aefc38248",
   "metadata": {},
   "outputs": [],
   "source": []
  }
 ],
 "metadata": {
  "kernelspec": {
   "display_name": "Python 3",
   "language": "python",
   "name": "python3"
  },
  "language_info": {
   "codemirror_mode": {
    "name": "ipython",
    "version": 3
   },
   "file_extension": ".py",
   "mimetype": "text/x-python",
   "name": "python",
   "nbconvert_exporter": "python",
   "pygments_lexer": "ipython3",
   "version": "3.7.7"
  }
 },
 "nbformat": 4,
 "nbformat_minor": 5
}
